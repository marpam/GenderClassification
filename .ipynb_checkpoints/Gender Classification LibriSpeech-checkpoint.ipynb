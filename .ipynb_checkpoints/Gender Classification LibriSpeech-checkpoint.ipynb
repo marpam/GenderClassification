{
 "cells": [
  {
   "cell_type": "markdown",
   "metadata": {},
   "source": [
    "## Gender Classification Task"
   ]
  },
  {
   "cell_type": "code",
   "execution_count": 1,
   "metadata": {},
   "outputs": [],
   "source": [
    "#Import Libraries\n",
    "\n",
    "import os\n",
    "import numpy as np\n",
    "import matplotlib.pyplot as plt\n",
    "import librosa\n",
    "import librosa.display"
   ]
  },
  {
   "cell_type": "code",
   "execution_count": 3,
   "metadata": {
    "collapsed": true
   },
   "outputs": [
    {
     "name": "stdout",
     "output_type": "stream",
     "text": [
      "['/Users/martinapammelati/Desktop/Voiseed Task/LibriSpeech/dev-clean/1272/128104/1272-128104-0000.flac'\n",
      " '/Users/martinapammelati/Desktop/Voiseed Task/LibriSpeech/dev-clean/1272/128104/1272-128104-0001.flac'\n",
      " '/Users/martinapammelati/Desktop/Voiseed Task/LibriSpeech/dev-clean/1272/128104/1272-128104-0002.flac'\n",
      " ...\n",
      " '/Users/martinapammelati/Desktop/Voiseed Task/LibriSpeech/dev-clean/8842/304647/8842-304647-0011.flac'\n",
      " '/Users/martinapammelati/Desktop/Voiseed Task/LibriSpeech/dev-clean/8842/304647/8842-304647-0012.flac'\n",
      " '/Users/martinapammelati/Desktop/Voiseed Task/LibriSpeech/dev-clean/8842/304647/8842-304647-0013.flac']\n"
     ]
    },
    {
     "data": {
      "text/plain": [
       "(2703,)"
      ]
     },
     "execution_count": 3,
     "metadata": {},
     "output_type": "execute_result"
    }
   ],
   "source": [
    "#Definition of audio files\n",
    "\n",
    "dataset_path = \"LibriSpeech/dev-clean\"\n",
    "audio_files = librosa.util.find_files(dataset_path, ext = ['flac'])\n",
    "audio_files = np.asarray(audio_files)             #convert all the audio files.flac in an array\n",
    "print(audio_files)                                #to see the array\n",
    "audio_files.shape                                 #2703 file audio array (2703x1)"
   ]
  },
  {
   "cell_type": "code",
   "execution_count": null,
   "metadata": {},
   "outputs": [],
   "source": [
    "#Function to Extract MFCCs\n",
    "\n",
    "def mfccs_extraction()"
   ]
  }
 ],
 "metadata": {
  "kernelspec": {
   "display_name": "Python 3",
   "language": "python",
   "name": "python3"
  },
  "language_info": {
   "codemirror_mode": {
    "name": "ipython",
    "version": 3
   },
   "file_extension": ".py",
   "mimetype": "text/x-python",
   "name": "python",
   "nbconvert_exporter": "python",
   "pygments_lexer": "ipython3",
   "version": "3.8.5"
  }
 },
 "nbformat": 4,
 "nbformat_minor": 4
}
